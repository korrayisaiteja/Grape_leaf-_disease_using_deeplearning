{
 "cells": [
  {
   "cell_type": "code",
   "execution_count": 1,
   "id": "76d07009",
   "metadata": {},
   "outputs": [],
   "source": [
    "# importing required libraries\n",
    "import numpy as np\n",
    "import matplotlib.pyplot as plt\n",
    "import glob\n",
    "import cv2\n",
    "import os\n",
    "import random\n",
    "import tensorflow as tf\n",
    "import tensorflow.keras as keras\n",
    "from tensorflow.keras.applications.vgg16 import VGG16\n",
    "import seaborn as sns\n",
    "from sklearn import preprocessing\n",
    "import joblib\n",
    "import xgboost as xgb\n",
    "from sklearn import metrics\n",
    "from sklearn.metrics import confusion_matrix, classification_report"
   ]
  },
  {
   "cell_type": "code",
   "execution_count": 2,
   "id": "83960965",
   "metadata": {},
   "outputs": [],
   "source": [
    "# Creating static and local variables\n",
    "SIZE = 256\n",
    "SEED_TRAINING = 121\n",
    "SEED_TESTING = 197\n",
    "SEED_VALIDATION = 164\n",
    "CHANNELS =3\n",
    "n_classes = 5\n",
    "EPOCHS = 5\n",
    "BATCH_SIZE = 16\n",
    "input_shape = (SIZE, SIZE, CHANNELS)"
   ]
  },
  {
   "cell_type": "code",
   "execution_count": 3,
   "id": "b2a4f344",
   "metadata": {},
   "outputs": [],
   "source": [
    "#--------------------Training\n",
    "def training(path) : \n",
    "    # loading data from local directory -> basic method. here labels are folder name, means each variety of data stored in particular folder.\n",
    "    train_images = []       # training dataset stored here...(numpy array form of images)\n",
    "    train_labels = []     # labels will be stored here \n",
    "    \n",
    "    '''here we are using glob for accessing directories'''\n",
    "    path = path + '\\*'\n",
    "    for directory_path in glob.glob(path) :   \n",
    "        label = directory_path.split('\\\\')[-1]       # taking labels from folders\n",
    "        # print(label)    # extracting label from directory path\n",
    "        \n",
    "        '''now we are entering into each folder and reading images from it and at a same \n",
    "        time we are also storing the label.'''\n",
    "        for img_path in glob.glob(os.path.join(directory_path, '*.JPG')) :    \n",
    "            img = cv2.imread(img_path, cv2.IMREAD_GRAYSCALE)    # read color image \n",
    "            img = cv2.merge((img, img, img))      # we have grey scale image, here we are converting it into 3 channel image\n",
    "            img = cv2.resize(img, (SIZE, SIZE))        # resize the image\n",
    "            \n",
    "            '''actually cv2 read image in BGR channel ordering, in color image we have 3 channels\n",
    "            RGB so here the channel order is different nothing special!. it doesnt affect on model.\n",
    "            In reality we can arrange them in any order we like.'''\n",
    "            # cv2.cvtColor(img, cv2.COLOR_BGR2RGB)\n",
    "            \n",
    "            train_images.append(img)\n",
    "            train_labels.append(label)\n",
    "    \n",
    "    # Shuffling the list to avoid the some kind of bias.\n",
    "    train_data = list(zip(train_images, train_labels))\n",
    "    '''Seed function is used to save the state of a random function, so that it can generate          \n",
    "        same random numbers on multiple executions of the code on the same machine or on \n",
    "        different machines (for a specific seed value).'''\n",
    "    random.seed(SEED_TRAINING)   \n",
    "    random.shuffle(train_data)\n",
    "    train_images, train_labels = zip(*train_data)   # it will unzip the ziped iterators, it will return tuple\n",
    "    \n",
    "    # converting tuples to numpy array.\n",
    "    train_images = np.array(train_images)\n",
    "    train_labels = np.array(train_labels)\n",
    "    \n",
    "    # let's normalize our pixel values \n",
    "    train_images = train_images / 255.0\n",
    "    return train_images, train_labels"
   ]
  },
  {
   "cell_type": "code",
   "execution_count": 4,
   "id": "9ca860c7",
   "metadata": {},
   "outputs": [],
   "source": [
    "def testing(path) : \n",
    "    test_images = []\n",
    "    test_labels = []\n",
    "    \n",
    "    path = path + '\\*'\n",
    "    for directory_path in glob.glob(path) : \n",
    "        labels = directory_path.split('\\\\')[-1]\n",
    "        for img_path in glob.glob(os.path.join(directory_path, '*.JPG')) : \n",
    "            img = cv2.imread(img_path, cv2.IMREAD_GRAYSCALE)\n",
    "            img = cv2.merge((img, img, img)) \n",
    "            img = cv2.resize(img, (SIZE, SIZE))\n",
    "            test_images.append(img)\n",
    "            test_labels.append(labels)\n",
    "            \n",
    "    # Shuffling testing data\n",
    "    test_data = list(zip(test_images, test_labels))\n",
    "    random.seed(SEED_TESTING)\n",
    "    random.shuffle(test_data)\n",
    "    test_images, test_labels = zip(*test_data)\n",
    "    test_images = np.array(test_images)\n",
    "    test_labels = np.array(test_labels)\n",
    "    \n",
    "    # let's normalize our pixel values\n",
    "    test_images = test_images / 255.0\n",
    "    return test_images, test_labels"
   ]
  },
  {
   "cell_type": "code",
   "execution_count": 5,
   "id": "072c61ed",
   "metadata": {},
   "outputs": [],
   "source": [
    "# preprocessing training and testing images\n",
    "X_test, y_test_labels = training(r'plant disease\\train')\n",
    "X_train, y_train_labels = training(r'plant disease\\test')"
   ]
  },
  {
   "cell_type": "code",
   "execution_count": 6,
   "id": "c7848e0e",
   "metadata": {},
   "outputs": [],
   "source": [
    "# encoding labels from text to integer\n",
    "le = preprocessing.LabelEncoder()\n",
    "le.fit(y_train_labels)\n",
    "train_label_encoded = le.transform(y_train_labels)\n",
    "le.fit(y_test_labels)\n",
    "test_label_encoded = le.transform(y_test_labels)"
   ]
  },
  {
   "cell_type": "code",
   "execution_count": 7,
   "id": "c4894766",
   "metadata": {},
   "outputs": [
    {
     "name": "stdout",
     "output_type": "stream",
     "text": [
      "{'Tomato___Bacterial_spot': 0, 'Tomato___Early_blight': 1, 'Tomato___Late_blight': 2, 'Tomato___Leaf_Mold': 3, 'Tomato___healthy': 4}\n"
     ]
    }
   ],
   "source": [
    "# extracting original labels, later we will need it.\n",
    "labels = dict(zip(le.classes_,range(len(le.classes_))))\n",
    "print(labels)"
   ]
  },
  {
   "cell_type": "code",
   "execution_count": 11,
   "id": "70438947",
   "metadata": {},
   "outputs": [],
   "source": [
    "# aliasing for better understanding\n",
    "y_train, y_test = train_label_encoded, test_label_encoded"
   ]
  },
  {
   "cell_type": "code",
   "execution_count": 12,
   "id": "a98cf117",
   "metadata": {},
   "outputs": [],
   "source": [
    "# let's load VGG16 Architecture without fully connected layers, considerding only fully convolutional layers\n",
    "vgg_model = VGG16(weights = 'imagenet',  include_top = False, input_shape = (SIZE, SIZE,3)) "
   ]
  },
  {
   "cell_type": "code",
   "execution_count": 13,
   "id": "5f608ad7",
   "metadata": {},
   "outputs": [],
   "source": [
    "# let's make all layers non-trainable\n",
    "for layer in vgg_model.layers : \n",
    "    layer.trainable = False"
   ]
  },
  {
   "cell_type": "code",
   "execution_count": 14,
   "id": "6fa4bf76",
   "metadata": {},
   "outputs": [
    {
     "name": "stdout",
     "output_type": "stream",
     "text": [
      "Model: \"vgg16\"\n",
      "_________________________________________________________________\n",
      " Layer (type)                Output Shape              Param #   \n",
      "=================================================================\n",
      " input_2 (InputLayer)        [(None, 256, 256, 3)]     0         \n",
      "                                                                 \n",
      " block1_conv1 (Conv2D)       (None, 256, 256, 64)      1792      \n",
      "                                                                 \n",
      " block1_conv2 (Conv2D)       (None, 256, 256, 64)      36928     \n",
      "                                                                 \n",
      " block1_pool (MaxPooling2D)  (None, 128, 128, 64)      0         \n",
      "                                                                 \n",
      " block2_conv1 (Conv2D)       (None, 128, 128, 128)     73856     \n",
      "                                                                 \n",
      " block2_conv2 (Conv2D)       (None, 128, 128, 128)     147584    \n",
      "                                                                 \n",
      " block2_pool (MaxPooling2D)  (None, 64, 64, 128)       0         \n",
      "                                                                 \n",
      " block3_conv1 (Conv2D)       (None, 64, 64, 256)       295168    \n",
      "                                                                 \n",
      " block3_conv2 (Conv2D)       (None, 64, 64, 256)       590080    \n",
      "                                                                 \n",
      " block3_conv3 (Conv2D)       (None, 64, 64, 256)       590080    \n",
      "                                                                 \n",
      " block3_pool (MaxPooling2D)  (None, 32, 32, 256)       0         \n",
      "                                                                 \n",
      " block4_conv1 (Conv2D)       (None, 32, 32, 512)       1180160   \n",
      "                                                                 \n",
      " block4_conv2 (Conv2D)       (None, 32, 32, 512)       2359808   \n",
      "                                                                 \n",
      " block4_conv3 (Conv2D)       (None, 32, 32, 512)       2359808   \n",
      "                                                                 \n",
      " block4_pool (MaxPooling2D)  (None, 16, 16, 512)       0         \n",
      "                                                                 \n",
      " block5_conv1 (Conv2D)       (None, 16, 16, 512)       2359808   \n",
      "                                                                 \n",
      " block5_conv2 (Conv2D)       (None, 16, 16, 512)       2359808   \n",
      "                                                                 \n",
      " block5_conv3 (Conv2D)       (None, 16, 16, 512)       2359808   \n",
      "                                                                 \n",
      " block5_pool (MaxPooling2D)  (None, 8, 8, 512)         0         \n",
      "                                                                 \n",
      "=================================================================\n",
      "Total params: 14,714,688\n",
      "Trainable params: 0\n",
      "Non-trainable params: 14,714,688\n",
      "_________________________________________________________________\n"
     ]
    }
   ],
   "source": [
    "# now trainable parameter will be 0 in our architecture\n",
    "vgg_model.summary()"
   ]
  },
  {
   "cell_type": "code",
   "execution_count": 15,
   "id": "959b75e9",
   "metadata": {},
   "outputs": [
    {
     "name": "stdout",
     "output_type": "stream",
     "text": [
      "73/73 [==============================] - 438s 6s/step\n"
     ]
    }
   ],
   "source": [
    "# let's extract features from convolutional network for XBG\n",
    "feature_extractor = vgg_model.predict(X_train)"
   ]
  },
  {
   "cell_type": "code",
   "execution_count": 16,
   "id": "c12fa18c",
   "metadata": {},
   "outputs": [],
   "source": [
    "features = feature_extractor.reshape(feature_extractor.shape[0], -1)\n",
    "X_train_features = features"
   ]
  },
  {
   "cell_type": "code",
   "execution_count": 17,
   "id": "c8c2c3e7",
   "metadata": {},
   "outputs": [
    {
     "name": "stdout",
     "output_type": "stream",
     "text": [
      "291/291 [==============================] - 1749s 6s/step\n"
     ]
    }
   ],
   "source": [
    "# perform same operation on test dataset\n",
    "feature_extractor_test = vgg_model.predict(X_test)\n",
    "features_test = feature_extractor_test.reshape(feature_extractor_test.shape[0], -1)\n",
    "X_test_features = features_test"
   ]
  },
  {
   "cell_type": "code",
   "execution_count": 18,
   "id": "4ddf9d66",
   "metadata": {},
   "outputs": [],
   "source": [
    "# defining XGBoost Classifier model\n",
    "model = xgb.XGBClassifier()\n",
    "model.fit(X_train_features, y_train)\n",
    "prediction = model.predict(X_test_features)"
   ]
  },
  {
   "cell_type": "code",
   "execution_count": 19,
   "id": "74546092",
   "metadata": {},
   "outputs": [],
   "source": [
    "# inversing le transforme to get original labels\n",
    "prediction = le.inverse_transform(prediction)"
   ]
  },
  {
   "cell_type": "code",
   "execution_count": 20,
   "id": "f8bddf96",
   "metadata": {},
   "outputs": [
    {
     "name": "stdout",
     "output_type": "stream",
     "text": [
      "Accuracy :  0.85389505441224\n"
     ]
    }
   ],
   "source": [
    "# let's check overall accuracy\n",
    "print('Accuracy : ', metrics.accuracy_score(y_test_labels, prediction))"
   ]
  },
  {
   "cell_type": "code",
   "execution_count": 21,
   "id": "ce89da2f",
   "metadata": {},
   "outputs": [
    {
     "data": {
      "text/plain": [
       "<AxesSubplot:>"
      ]
     },
     "execution_count": 21,
     "metadata": {},
     "output_type": "execute_result"
    },
    {
     "data": {
      "image/png": "[encoded data removed]",
      "text/plain": [
       "<Figure size 432x288 with 2 Axes>"
      ]
     },
     "metadata": {
      "needs_background": "light"
     },
     "output_type": "display_data"
    }
   ],
   "source": [
    "# Confusion Matrics : Verify accuracy of each class\n",
    "cm = confusion_matrix(y_test_labels, prediction)\n",
    "cm = cm.astype('float') / cm.sum(axis=1)[:, np.newaxis]\n",
    "sns.heatmap(cm, annot = True)"
   ]
  },
  {
   "cell_type": "code",
   "execution_count": 22,
   "id": "9311da8a",
   "metadata": {},
   "outputs": [
    {
     "name": "stdout",
     "output_type": "stream",
     "text": [
      "                         precision    recall  f1-score   support\n",
      "\n",
      "Tomato___Bacterial_spot       0.93      0.95      0.94      1702\n",
      "  Tomato___Early_blight       0.75      0.73      0.74      1920\n",
      "   Tomato___Late_blight       0.82      0.79      0.81      1851\n",
      "     Tomato___Leaf_Mold       0.82      0.82      0.82      1882\n",
      "       Tomato___healthy       0.95      0.98      0.96      1926\n",
      "\n",
      "               accuracy                           0.85      9281\n",
      "              macro avg       0.85      0.86      0.85      9281\n",
      "           weighted avg       0.85      0.85      0.85      9281\n",
      "\n"
     ]
    }
   ],
   "source": [
    "# Classification report\n",
    "print(classification_report(y_test_labels, prediction))"
   ]
  },
  {
   "cell_type": "code",
   "execution_count": 23,
   "id": "36771393",
   "metadata": {},
   "outputs": [
    {
     "data": {
      "text/plain": [
       "['plant_disease.pkl']"
      ]
     },
     "execution_count": 23,
     "metadata": {},
     "output_type": "execute_result"
    }
   ],
   "source": [
    "# save the model\n",
    "joblib.dump(model, 'plant_disease.pkl')"
   ]
  },
  {
   "cell_type": "code",
   "execution_count": null,
   "id": "e3331f2c",
   "metadata": {},
   "outputs": [],
   "source": []
  }
 ],
 "metadata": {
  "kernelspec": {
   "display_name": "Python 3 (ipykernel)",
   "language": "python",
   "name": "python3"
  },
  "language_info": {
   "codemirror_mode": {
    "name": "ipython",
    "version": 3
   },
   "file_extension": ".py",
   "mimetype": "text/x-python",
   "name": "python",
   "nbconvert_exporter": "python",
   "pygments_lexer": "ipython3",
   "version": "3.9.12"
  }
 },
 "nbformat": 4,
 "nbformat_minor": 5
}
